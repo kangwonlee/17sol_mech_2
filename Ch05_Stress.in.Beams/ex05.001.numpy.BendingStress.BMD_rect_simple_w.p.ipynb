{
 "cells": [
  {
   "cell_type": "markdown",
   "metadata": {},
   "source": [
    "참고문헌 : Pytel 외 저, 이주성 외 역, 재료역학, 2판, 한티미디어, 2013.<br>Ref: Pytel, Kiusalaas, Sharma, Mechanics of Materials, 2nd Ed., Cengege Learning, 2013."
   ]
  },
  {
   "cell_type": "markdown",
   "metadata": {},
   "source": [
    "`python` 기능을 확장해 주는 `module`을 불러 들임 (일부 기능만 사용될 수도 있음)"
   ]
  },
  {
   "cell_type": "code",
   "execution_count": null,
   "metadata": {
    "collapsed": true
   },
   "outputs": [],
   "source": [
    "import numpy as np  # 배열, 행렬 관련 기능\n",
    "import numpy.linalg as na  # 선형대수 (벡터, 행렬) 관련 기능\n",
    "import numpy.matlib as nm  # 선형대수 (벡터, 행렬) 관련 기능\n",
    "import matplotlib.pyplot as plt  # 그래프 관련 기능\n",
    "import scipy.integrate as si  # 적분 관련 기능\n",
    "import sympy as sy  # 기호 연산 기능\n",
    "import IPython.display as disp  # 웹페이지 표시 기능\n",
    "sy.init_printing()  # 기호 연산 결과 표시 기능 준비"
   ]
  },
  {
   "cell_type": "markdown",
   "metadata": {},
   "source": [
    "# 예제 05.001"
   ]
  },
  {
   "cell_type": "markdown",
   "metadata": {},
   "source": [
    "## 문제에서 주어진 변수"
   ]
  },
  {
   "cell_type": "markdown",
   "metadata": {},
   "source": [
    "### 각 구간 길이"
   ]
  },
  {
   "cell_type": "code",
   "execution_count": null,
   "metadata": {
    "collapsed": true
   },
   "outputs": [],
   "source": [
    "L_AB_m = 0.8\n",
    "L_AD_m = 2.0\n",
    "L_DE_m = 1.0\n",
    "\n",
    "L_BD_m = 2.0 - L_AB_m\n",
    "L_AE_m = L_AD_m + L_DE_m"
   ]
  },
  {
   "cell_type": "markdown",
   "metadata": {},
   "source": [
    "### 하중"
   ]
  },
  {
   "cell_type": "code",
   "execution_count": null,
   "metadata": {
    "collapsed": true
   },
   "outputs": [],
   "source": [
    "w_AE_N_m = -6e3\n",
    "P_D_N = -15e3"
   ]
  },
  {
   "cell_type": "markdown",
   "metadata": {},
   "source": [
    "### 단면"
   ]
  },
  {
   "cell_type": "code",
   "execution_count": null,
   "metadata": {
    "collapsed": true
   },
   "outputs": [],
   "source": [
    "b_m = 120e-3\n",
    "h_m = 200e-3\n",
    "h_half_m = 0.5 * h_m"
   ]
  },
  {
   "cell_type": "markdown",
   "metadata": {},
   "source": [
    "## a) 최대 굽힘 응력"
   ]
  },
  {
   "cell_type": "markdown",
   "metadata": {},
   "source": [
    "최대 굽힘 모멘트가 발생하는 위치와 그 크기는 BMD 를 그려 보면 알 수 있다."
   ]
  },
  {
   "cell_type": "markdown",
   "metadata": {},
   "source": [
    "### A, B, C, D 지점의 x 좌표\n",
    "A 점에서 x=0 으로 한다."
   ]
  },
  {
   "cell_type": "code",
   "execution_count": null,
   "metadata": {
    "collapsed": false
   },
   "outputs": [],
   "source": [
    "x_A_m = 0\n",
    "x_B_m = x_A_m + L_AB_m\n",
    "x_D_m = x_B_m + L_BD_m\n",
    "x_E_m = x_D_m + L_DE_m"
   ]
  },
  {
   "cell_type": "markdown",
   "metadata": {},
   "source": [
    "### 반력"
   ]
  },
  {
   "cell_type": "markdown",
   "metadata": {},
   "source": [
    "A점 중심의 모멘트는 분포하중, D점 하중, E점 반력이 각각 가하는 모멘트의 합이 된다."
   ]
  },
  {
   "cell_type": "markdown",
   "metadata": {},
   "source": [
    "$$\n",
    "\\int_{x=0}^{x=L_{AE}} wx \\, dx+P_D L_{AD}+R_E L_{AE}=0\\\\\n",
    "$$"
   ]
  },
  {
   "cell_type": "markdown",
   "metadata": {},
   "source": [
    "E점 반력 $R_E$에 관련된 항만 $=$의 왼쪽에 남기고 나머지 항을 모두 오른쪽으로 옮긴다."
   ]
  },
  {
   "cell_type": "markdown",
   "metadata": {},
   "source": [
    "$$\n",
    "R_E L_{AE}=-w\\int_{x=0}^{x=L_{AE}} x \\, dx-P_D L_{AD}\\\\\n",
    "$$"
   ]
  },
  {
   "cell_type": "markdown",
   "metadata": {},
   "source": [
    "$=$의 왼쪽과 오른쪽 모두를 $L_{AE}$ 로 나눈다."
   ]
  },
  {
   "cell_type": "markdown",
   "metadata": {},
   "source": [
    "$$\n",
    "R_E=-\\frac{w}{L_{AE}}\\int_{x=0}^{x=L_{AE}} x \\, dx-\\frac{L_{AD}}{L_{AE}}P_D\\\\\n",
    "$$"
   ]
  },
  {
   "cell_type": "markdown",
   "metadata": {},
   "source": [
    "적분한다."
   ]
  },
  {
   "cell_type": "markdown",
   "metadata": {},
   "source": [
    "$$\n",
    "R_E=-\\frac{w}{L_{AE}}\\left[\\frac{1}{2}x^2\\right]_{x=0}^{x=L_{AE}} \n",
    "-\\frac{L_{AD}}{L_{AE}}P_D\\\\\n",
    "$$"
   ]
  },
  {
   "cell_type": "markdown",
   "metadata": {},
   "source": [
    "적분 구간을 대입한다."
   ]
  },
  {
   "cell_type": "markdown",
   "metadata": {},
   "source": [
    "$$\n",
    "R_E=-\\frac{wL_{AE}^2}{2L_{AE}}-\\frac{L_{AD}}{L_{AE}}P_D\\\\\n",
    "$$"
   ]
  },
  {
   "cell_type": "markdown",
   "metadata": {},
   "source": [
    "분자와 분모의 $L_{AE}$를 약분한다."
   ]
  },
  {
   "cell_type": "markdown",
   "metadata": {},
   "source": [
    "$$\n",
    "R_E=-\\frac{wL_{AE}}{2}-\\frac{L_{AD}}{L_{AE}}P_D\\\\\n",
    "$$"
   ]
  },
  {
   "cell_type": "markdown",
   "metadata": {},
   "source": [
    "E 점에서의 반력"
   ]
  },
  {
   "cell_type": "code",
   "execution_count": null,
   "metadata": {
    "collapsed": false
   },
   "outputs": [],
   "source": [
    "R_E_N = -0.5 * w_AE_N_m * L_AE_m - L_AD_m / L_AE_m * P_D_N\n",
    "R_E_N"
   ]
  },
  {
   "cell_type": "markdown",
   "metadata": {},
   "source": [
    "A 점에서의 반력\n",
    "$$\n",
    "R_A + w L_{AE} + P_D + R_E = 0 \\\\\n",
    "\\begin{align}\n",
    "R_A &= -w L_{AE} - P_D - R_E \\\\\n",
    "&= -w L_{AE} - P_D - \\left( -\\frac{wL_{AE}}{2}-\\frac{L_{AD}}{L_{AE}}P_D \\right) \\\\\n",
    "&= -w L_{AE} - P_D + \\left( \\frac{wL_{AE}}{2}+\\frac{L_{AD}}{L_{AE}}P_D \\right) \\\\\n",
    "&= -\\frac{wL_{AE}}{2} - \\left( \\frac{L_{AE}}{L_{AE}} -\\frac{L_{AD}}{L_{AE}} \\right)P_D  \\\\\n",
    "&= -\\frac{wL_{AE}}{2} - \\frac{L_{DE}}{L_{AE}} P_D  \\\\\n",
    "\\end{align}\n",
    "$$"
   ]
  },
  {
   "cell_type": "code",
   "execution_count": null,
   "metadata": {
    "collapsed": false
   },
   "outputs": [],
   "source": [
    "R_A_N = - w_AE_N_m * L_AE_m - P_D_N - R_E_N\n",
    "R_A_N"
   ]
  },
  {
   "cell_type": "markdown",
   "metadata": {},
   "source": [
    "### A-D 구간"
   ]
  },
  {
   "cell_type": "code",
   "execution_count": null,
   "metadata": {
    "collapsed": true
   },
   "outputs": [],
   "source": [
    "x_AD_m_array = np.linspace(x_A_m, x_D_m, 200+1)"
   ]
  },
  {
   "cell_type": "markdown",
   "metadata": {},
   "source": [
    "#### 전단력선도"
   ]
  },
  {
   "cell_type": "markdown",
   "metadata": {},
   "source": [
    "A 지점에서의 반력과 분포하중을 반영한다."
   ]
  },
  {
   "cell_type": "markdown",
   "metadata": {},
   "source": [
    "$$V_{AD}=R_A+wx$$"
   ]
  },
  {
   "cell_type": "code",
   "execution_count": null,
   "metadata": {
    "collapsed": false
   },
   "outputs": [],
   "source": [
    "V_AD_N_array = R_A_N + w_AE_N_m * x_AD_m_array"
   ]
  },
  {
   "cell_type": "code",
   "execution_count": null,
   "metadata": {
    "collapsed": false,
    "scrolled": false
   },
   "outputs": [],
   "source": [
    "plt.fill_between(x_AD_m_array, V_AD_N_array)\n",
    "plt.ylabel('V(N)')"
   ]
  },
  {
   "cell_type": "markdown",
   "metadata": {},
   "source": [
    "A 지점에서의 반력을 화살표로 표시한다."
   ]
  },
  {
   "cell_type": "code",
   "execution_count": null,
   "metadata": {
    "collapsed": false
   },
   "outputs": [],
   "source": [
    "ax = plt.axes()\n",
    "ax.arrow(x_A_m, 0, \n",
    "         0, R_A_N * 0.9, \n",
    "         head_width=0.05, head_length=0.1 * abs(R_A_N), fc='k', ec='k')"
   ]
  },
  {
   "cell_type": "code",
   "execution_count": null,
   "metadata": {
    "collapsed": false,
    "scrolled": true
   },
   "outputs": [],
   "source": [
    "plt.text(x_A_m, 0, 'A')\n",
    "plt.text(x_B_m, 0, 'B')\n",
    "plt.text(x_D_m, 0, 'D')\n",
    "plt.text(x_E_m, 0, 'E')\n",
    "plt.xlim(xmax=x_E_m)\n",
    "plt.xlabel('x(m)')\n",
    "plt.grid(True)\n",
    "plt.show()"
   ]
  },
  {
   "cell_type": "markdown",
   "metadata": {},
   "source": [
    "#### 굽힘모멘트 선도"
   ]
  },
  {
   "cell_type": "markdown",
   "metadata": {},
   "source": [
    "A지점의 반력과 분포하중이 A-D 구간에 작용하는 모멘트를 반영한다."
   ]
  },
  {
   "cell_type": "markdown",
   "metadata": {},
   "source": [
    "$$M_{AD}=R_Ax+\\frac{1}{2}wx^2$$"
   ]
  },
  {
   "cell_type": "code",
   "execution_count": null,
   "metadata": {
    "collapsed": false
   },
   "outputs": [],
   "source": [
    "M_AD_Nm_array = R_A_N * x_AD_m_array + 0.5 * w_AE_N_m * x_AD_m_array**2"
   ]
  },
  {
   "cell_type": "code",
   "execution_count": null,
   "metadata": {
    "collapsed": false
   },
   "outputs": [],
   "source": [
    "plt.fill_between(x_AD_m_array, M_AD_Nm_array)\n",
    "plt.ylabel('M(Nm)')"
   ]
  },
  {
   "cell_type": "code",
   "execution_count": null,
   "metadata": {
    "collapsed": false
   },
   "outputs": [],
   "source": [
    "plt.text(x_A_m, 0, 'A')\n",
    "plt.text(x_B_m, 0, 'B')\n",
    "plt.text(x_D_m, 0, 'D')\n",
    "plt.text(x_E_m, 0, 'E')\n",
    "plt.xlim(xmax=x_E_m)\n",
    "plt.xlabel('x(m)')\n",
    "plt.grid(True)\n",
    "plt.show()"
   ]
  },
  {
   "cell_type": "markdown",
   "metadata": {},
   "source": [
    "### D-E 구간"
   ]
  },
  {
   "cell_type": "code",
   "execution_count": null,
   "metadata": {
    "collapsed": false
   },
   "outputs": [],
   "source": [
    "x_DE_m_array = np.linspace(x_D_m, x_E_m, 50+1)"
   ]
  },
  {
   "cell_type": "markdown",
   "metadata": {},
   "source": [
    "#### 전단력선도"
   ]
  },
  {
   "cell_type": "markdown",
   "metadata": {},
   "source": [
    "A, D 지점에서의 하중, 반력과 분포 하중을 감안하면 다음과 같다."
   ]
  },
  {
   "cell_type": "markdown",
   "metadata": {},
   "source": [
    "$$ V_{DE}=R_A+P_D+w  x $$"
   ]
  },
  {
   "cell_type": "code",
   "execution_count": null,
   "metadata": {
    "collapsed": false
   },
   "outputs": [],
   "source": [
    "V_DE_N_array = (R_A_N + P_D_N) + w_AE_N_m * x_DE_m_array"
   ]
  },
  {
   "cell_type": "code",
   "execution_count": null,
   "metadata": {
    "collapsed": false,
    "scrolled": false
   },
   "outputs": [],
   "source": [
    "plt.fill_between(x_AD_m_array, V_AD_N_array)\n",
    "plt.fill_between(x_DE_m_array, V_DE_N_array)\n",
    "plt.ylabel('V(N)')"
   ]
  },
  {
   "cell_type": "markdown",
   "metadata": {},
   "source": [
    "A 지점에서의 반력을 화살표로 표시한다."
   ]
  },
  {
   "cell_type": "code",
   "execution_count": null,
   "metadata": {
    "collapsed": false
   },
   "outputs": [],
   "source": [
    "ax = plt.axes()\n",
    "ax.arrow(x_A_m, 0, \n",
    "         0, R_A_N * 0.9, \n",
    "         head_width=0.05, head_length=0.1 * abs(R_A_N), fc='k', ec='k')"
   ]
  },
  {
   "cell_type": "markdown",
   "metadata": {},
   "source": [
    "D 지점에서의 하중을 화살표로 표시한다."
   ]
  },
  {
   "cell_type": "code",
   "execution_count": null,
   "metadata": {
    "collapsed": false
   },
   "outputs": [],
   "source": [
    "ax.arrow(x_D_m, V_AD_N_array[-1], \n",
    "         0, P_D_N * 0.9, \n",
    "         head_width=0.05, head_length=0.1 * abs(P_D_N), fc='k', ec='k')"
   ]
  },
  {
   "cell_type": "markdown",
   "metadata": {},
   "source": [
    "E 지점에서의 반력을 화살표로 표시한다."
   ]
  },
  {
   "cell_type": "code",
   "execution_count": null,
   "metadata": {
    "collapsed": false
   },
   "outputs": [],
   "source": [
    "ax.arrow(x_E_m, V_DE_N_array[-1], \n",
    "         0, R_E_N * 0.9, \n",
    "         head_width=0.05, head_length=0.1 * abs(R_E_N), fc='k', ec='k')"
   ]
  },
  {
   "cell_type": "code",
   "execution_count": null,
   "metadata": {
    "collapsed": false
   },
   "outputs": [],
   "source": [
    "plt.text(x_A_m, 0, 'A')\n",
    "plt.text(x_B_m, 0, 'B')\n",
    "plt.text(x_D_m, 0, 'D')\n",
    "plt.text(x_E_m, 0, 'E')\n",
    "plt.xlabel('x(m)')\n",
    "plt.grid(True)\n",
    "plt.show()"
   ]
  },
  {
   "cell_type": "markdown",
   "metadata": {},
   "source": [
    "#### 굽힘모멘트 선도"
   ]
  },
  {
   "cell_type": "markdown",
   "metadata": {},
   "source": [
    "전단력 선도를 적분한다."
   ]
  },
  {
   "cell_type": "code",
   "execution_count": null,
   "metadata": {
    "collapsed": false
   },
   "outputs": [],
   "source": [
    "M_DE_Nm_array = si.cumtrapz(V_DE_N_array, x_DE_m_array, initial=0) + M_AD_Nm_array[-1]"
   ]
  },
  {
   "cell_type": "code",
   "execution_count": null,
   "metadata": {
    "collapsed": false
   },
   "outputs": [],
   "source": [
    "plt.fill_between(x_AD_m_array, M_AD_Nm_array)\n",
    "plt.fill_between(x_DE_m_array, M_DE_Nm_array)\n",
    "plt.ylabel('M(Nm)')"
   ]
  },
  {
   "cell_type": "code",
   "execution_count": null,
   "metadata": {
    "collapsed": false
   },
   "outputs": [],
   "source": [
    "plt.text(x_A_m, 0, 'A')\n",
    "plt.text(x_B_m, 0, 'B')\n",
    "plt.text(x_D_m, 0, 'D')\n",
    "plt.text(x_E_m, 0, 'E')\n",
    "plt.xlabel('x(m)')\n",
    "plt.grid(True)\n",
    "plt.show()"
   ]
  },
  {
   "cell_type": "markdown",
   "metadata": {},
   "source": [
    "### A-E 구간 전체"
   ]
  },
  {
   "cell_type": "markdown",
   "metadata": {},
   "source": [
    "#### 전단력선도"
   ]
  },
  {
   "cell_type": "code",
   "execution_count": null,
   "metadata": {
    "collapsed": false
   },
   "outputs": [],
   "source": [
    "ax = plt.subplot(2, 1, 1)"
   ]
  },
  {
   "cell_type": "code",
   "execution_count": null,
   "metadata": {
    "collapsed": false,
    "scrolled": true
   },
   "outputs": [],
   "source": [
    "plt.fill_between(x_AD_m_array, V_AD_N_array)\n",
    "plt.fill_between(x_DE_m_array, V_DE_N_array)\n",
    "plt.ylabel('V(N)')"
   ]
  },
  {
   "cell_type": "code",
   "execution_count": null,
   "metadata": {
    "collapsed": false
   },
   "outputs": [],
   "source": [
    "ax.arrow(x_A_m, 0, \n",
    "         0, R_A_N * 0.9, \n",
    "         head_width=0.05, head_length=0.1 * abs(R_A_N), fc='k', ec='k')"
   ]
  },
  {
   "cell_type": "code",
   "execution_count": null,
   "metadata": {
    "collapsed": false
   },
   "outputs": [],
   "source": [
    "ax.arrow(x_D_m, V_AD_N_array[-1], \n",
    "         0, P_D_N * 0.9, \n",
    "         head_width=0.05, head_length=0.1 * abs(P_D_N), fc='k', ec='k')"
   ]
  },
  {
   "cell_type": "code",
   "execution_count": null,
   "metadata": {
    "collapsed": false
   },
   "outputs": [],
   "source": [
    "ax.arrow(x_E_m, V_DE_N_array[-1], \n",
    "         0, R_E_N * 0.9, \n",
    "         head_width=0.05, head_length=0.1 * abs(R_E_N), fc='k', ec='k')"
   ]
  },
  {
   "cell_type": "code",
   "execution_count": null,
   "metadata": {
    "collapsed": false
   },
   "outputs": [],
   "source": [
    "plt.text(x_A_m, 0, 'A')\n",
    "plt.text(x_B_m, 0, 'B')\n",
    "plt.text(x_D_m, 0, 'D')\n",
    "plt.text(x_E_m, 0, 'E')\n",
    "plt.xlabel('x(m)')\n",
    "plt.grid(True)"
   ]
  },
  {
   "cell_type": "markdown",
   "metadata": {},
   "source": [
    "#### 굽힘모멘트선도"
   ]
  },
  {
   "cell_type": "code",
   "execution_count": null,
   "metadata": {
    "collapsed": false
   },
   "outputs": [],
   "source": [
    "plt.subplot(2, 1, 2)"
   ]
  },
  {
   "cell_type": "code",
   "execution_count": null,
   "metadata": {
    "collapsed": false
   },
   "outputs": [],
   "source": [
    "plt.fill_between(x_AD_m_array, M_AD_Nm_array)\n",
    "plt.fill_between(x_DE_m_array, M_DE_Nm_array)\n",
    "plt.ylabel('M(Nm)')"
   ]
  },
  {
   "cell_type": "code",
   "execution_count": null,
   "metadata": {
    "collapsed": false,
    "scrolled": true
   },
   "outputs": [],
   "source": [
    "plt.text(x_A_m, 0, 'A')\n",
    "plt.text(x_B_m, 0, 'B')\n",
    "plt.text(x_D_m, 0, 'D')\n",
    "plt.text(x_E_m, 0, 'E')\n",
    "plt.xlabel('x(m)')\n",
    "plt.grid(True)\n",
    "plt.show()"
   ]
  },
  {
   "cell_type": "markdown",
   "metadata": {},
   "source": [
    "D점에서 굽힘 모멘트가 최대가 된다."
   ]
  },
  {
   "cell_type": "markdown",
   "metadata": {},
   "source": [
    "A-D 구간의 마지막 모멘트 값은 다음과 같이 알 수 있다."
   ]
  },
  {
   "cell_type": "code",
   "execution_count": null,
   "metadata": {
    "collapsed": false
   },
   "outputs": [],
   "source": [
    "M_AD_Nm_array[-1]"
   ]
  },
  {
   "cell_type": "markdown",
   "metadata": {},
   "source": [
    "또는 다음과 같이 모멘트의 최대값을 찾도록 시킬 수 있다."
   ]
  },
  {
   "cell_type": "code",
   "execution_count": null,
   "metadata": {
    "collapsed": false
   },
   "outputs": [],
   "source": [
    "max(M_AD_Nm_array)"
   ]
  },
  {
   "cell_type": "code",
   "execution_count": null,
   "metadata": {
    "collapsed": false
   },
   "outputs": [],
   "source": [
    "max(M_DE_Nm_array)"
   ]
  },
  {
   "cell_type": "code",
   "execution_count": null,
   "metadata": {
    "collapsed": false
   },
   "outputs": [],
   "source": [
    "M_max_Nm = max(max(M_AD_Nm_array), max(M_DE_Nm_array))\n",
    "M_max_Nm"
   ]
  },
  {
   "cell_type": "markdown",
   "metadata": {},
   "source": [
    "최대값의 $x$ 좌표는 다음과 같이 알 수 있다."
   ]
  },
  {
   "cell_type": "code",
   "execution_count": null,
   "metadata": {
    "collapsed": false
   },
   "outputs": [],
   "source": [
    "index_max_M = np.argmax(M_AD_Nm_array)\n",
    "x_AD_m_array[index_max_M]"
   ]
  },
  {
   "cell_type": "markdown",
   "metadata": {},
   "source": [
    "굽힘 응력과 굽힘 모멘트 사이에는 다음과 같은 관계가 있다. (p. 170, eq 5.4a)"
   ]
  },
  {
   "cell_type": "markdown",
   "metadata": {},
   "source": [
    "$$\\sigma_{max}=\\frac{|M|_{max}c}{I}=\\frac{|M|_{max}}{\\frac{I}{c}}=\\frac{|M|_{max}}{S}$$"
   ]
  },
  {
   "cell_type": "markdown",
   "metadata": {},
   "source": [
    "단면의 모멘트 $I$, $c$ 는 다음과 같다."
   ]
  },
  {
   "cell_type": "markdown",
   "metadata": {},
   "source": [
    "$$I=\\frac{bh^3}{12}\\\\\n",
    "c=\\frac{h}{2}\n",
    "$$"
   ]
  },
  {
   "cell_type": "code",
   "execution_count": null,
   "metadata": {
    "collapsed": true
   },
   "outputs": [],
   "source": [
    "I_m4 = b_m * h_m**3 / 12\n",
    "c_m = h_m * 0.5"
   ]
  },
  {
   "cell_type": "code",
   "execution_count": null,
   "metadata": {
    "collapsed": false
   },
   "outputs": [],
   "source": [
    "sigma_max_Pa = M_max_Nm * c_m / I_m4\n",
    "sigma_max_Pa"
   ]
  },
  {
   "cell_type": "code",
   "execution_count": null,
   "metadata": {
    "collapsed": false
   },
   "outputs": [],
   "source": [
    "sigma_max_MPa = sigma_max_Pa * 1e-6\n",
    "sigma_max_MPa"
   ]
  },
  {
   "cell_type": "markdown",
   "metadata": {},
   "source": [
    "## b) 최대 굽힘 응력 단면의 응력 분포"
   ]
  },
  {
   "cell_type": "markdown",
   "metadata": {},
   "source": [
    "$y$ 축 방향 범위 $\\pm c$ 사이를 표시한다."
   ]
  },
  {
   "cell_type": "code",
   "execution_count": null,
   "metadata": {
    "collapsed": true
   },
   "outputs": [],
   "source": [
    "y_m_array = np.linspace(-c_m, c_m, 6)\n",
    "zeros_array = np.zeros_like(y_m_array)"
   ]
  },
  {
   "cell_type": "markdown",
   "metadata": {},
   "source": [
    "표시할 응력값을 계산한다. 압축이면 $x$ 축 - 방향이 되도록 한다."
   ]
  },
  {
   "cell_type": "code",
   "execution_count": null,
   "metadata": {
    "collapsed": true
   },
   "outputs": [],
   "source": [
    "slope = - sigma_max_Pa / c_m\n",
    "sigma_Pa_array = slope * y_m_array"
   ]
  },
  {
   "cell_type": "markdown",
   "metadata": {},
   "source": [
    "응력 그래프를 표시하도록 지정한다."
   ]
  },
  {
   "cell_type": "code",
   "execution_count": null,
   "metadata": {
    "collapsed": false
   },
   "outputs": [],
   "source": [
    "plt.clf()\n",
    "plt.grid(True)\n",
    "plt.plot(zeros_array, y_m_array)\n",
    "plt.plot(sigma_Pa_array, y_m_array)"
   ]
  },
  {
   "cell_type": "markdown",
   "metadata": {},
   "source": [
    "화살표를 추가한다."
   ]
  },
  {
   "cell_type": "code",
   "execution_count": null,
   "metadata": {
    "collapsed": false
   },
   "outputs": [],
   "source": [
    "for sigma_Pa, y_m in zip(sigma_Pa_array, y_m_array):\n",
    "    plt.arrow(0.0, y_m,\n",
    "             sigma_Pa*0.9, 0.0, head_width=1e-2, head_length=abs(sigma_Pa*.1))             "
   ]
  },
  {
   "cell_type": "markdown",
   "metadata": {},
   "source": [
    "x, y축 이름을 지정하고 그래프를 보여준다."
   ]
  },
  {
   "cell_type": "code",
   "execution_count": null,
   "metadata": {
    "collapsed": false
   },
   "outputs": [],
   "source": [
    "plt.xlabel('$\\\\sigma$[Pa]')\n",
    "plt.ylabel('$y$[m]')\n",
    "plt.show()"
   ]
  },
  {
   "cell_type": "markdown",
   "metadata": {},
   "source": [
    "## c) 단면 B 상단 아래 25mm 지점의 응력"
   ]
  },
  {
   "cell_type": "code",
   "execution_count": null,
   "metadata": {
    "collapsed": false
   },
   "outputs": [],
   "source": [
    "plt.fill_between(x_AD_m_array, M_AD_Nm_array)\n",
    "plt.fill_between(x_DE_m_array, M_DE_Nm_array)\n",
    "\n",
    "plt.plot((x_B_m, x_B_m, ), (0, max(M_AD_Nm_array)), 'k')\n",
    "\n",
    "plt.ylabel('M(Nm)')\n",
    "plt.text(x_A_m, 0, 'A')\n",
    "plt.text(x_B_m, 0, 'B')\n",
    "plt.text(x_D_m, 0, 'D')\n",
    "plt.text(x_E_m, 0, 'E')\n",
    "plt.xlabel('x(m)')\n",
    "plt.grid(True)\n",
    "plt.show()"
   ]
  },
  {
   "cell_type": "markdown",
   "metadata": {},
   "source": [
    "B 점의 x 좌표는 다음과 같다."
   ]
  },
  {
   "cell_type": "code",
   "execution_count": null,
   "metadata": {
    "collapsed": false
   },
   "outputs": [],
   "source": [
    "x_B_m"
   ]
  },
  {
   "cell_type": "markdown",
   "metadata": {},
   "source": [
    "A-D 구간이므로 굽힘모멘트는 다음과 같다."
   ]
  },
  {
   "cell_type": "markdown",
   "metadata": {},
   "source": [
    "$$M_{AD}=R_Ax+\\frac{1}{2}wx^2$$"
   ]
  },
  {
   "cell_type": "code",
   "execution_count": null,
   "metadata": {
    "collapsed": false
   },
   "outputs": [],
   "source": [
    "M_B_Nm = R_A_N * x_B_m + 0.5 * w_AE_N_m * x_B_m ** 2\n",
    "M_B_Nm"
   ]
  },
  {
   "cell_type": "code",
   "execution_count": null,
   "metadata": {
    "collapsed": false
   },
   "outputs": [],
   "source": [
    "y_B_m = c_m - 25e-3\n",
    "sigma_B_Pa = -M_B_Nm * y_B_m / I_m4\n",
    "sigma_B_Pa"
   ]
  },
  {
   "cell_type": "code",
   "execution_count": null,
   "metadata": {
    "collapsed": false
   },
   "outputs": [],
   "source": [
    "sigma_B_MPa = sigma_B_Pa * 1e-6\n",
    "sigma_B_MPa"
   ]
  },
  {
   "cell_type": "markdown",
   "metadata": {},
   "source": [
    "## 굽힘 응력 분포<br>Distribution of bending stress"
   ]
  },
  {
   "cell_type": "markdown",
   "metadata": {},
   "source": [
    "굽힘 응력이 보의 길이 방향 `x` 위치별, 단면 안에서 중립면으로부터의 `y` 거리별로 어떻게 분포하는지 그림으로 나타내 보자.<br>\n",
    "Let's visualize how bending stress is distributed across longitudinal `x` direction and vertical `y` direction."
   ]
  },
  {
   "cell_type": "markdown",
   "metadata": {},
   "source": [
    "`y` 배열을 더 높은 해상도로 새로 만든다.<br>Make a new `y` array with higher resolution."
   ]
  },
  {
   "cell_type": "code",
   "execution_count": null,
   "metadata": {
    "collapsed": false
   },
   "outputs": [],
   "source": [
    "y_m_array = np.linspace(-c_m, c_m, 50 + 1)"
   ]
  },
  {
   "cell_type": "markdown",
   "metadata": {},
   "source": [
    "AD 구간, DE 구간 `x` 배열을 이어 새로운 `x` 배열을 만든다.<br>Make a new `x` array by concatenating `x` arrays of A~D, D~E intervals."
   ]
  },
  {
   "cell_type": "code",
   "execution_count": null,
   "metadata": {
    "collapsed": false
   },
   "outputs": [],
   "source": [
    "x_m_array = np.concatenate((x_AD_m_array, x_DE_m_array))"
   ]
  },
  {
   "cell_type": "markdown",
   "metadata": {},
   "source": [
    "새로이 만들어진 `x` 배열의 크기는 다음과 같다.<br>Shape of the new `x` array."
   ]
  },
  {
   "cell_type": "code",
   "execution_count": null,
   "metadata": {
    "collapsed": false
   },
   "outputs": [],
   "source": [
    "x_m_array.shape"
   ]
  },
  {
   "cell_type": "markdown",
   "metadata": {},
   "source": [
    "`x` `y` 좌표 격자<br>`x` `y` coordinate grids"
   ]
  },
  {
   "cell_type": "code",
   "execution_count": null,
   "metadata": {
    "collapsed": true
   },
   "outputs": [],
   "source": [
    "y_m_grid, x_m_grid = np.meshgrid(y_m_array, x_m_array)"
   ]
  },
  {
   "cell_type": "markdown",
   "metadata": {},
   "source": [
    "`x` `y` 좌표 격자의 크기<br>Shapes of `x` `y` coordinate grids"
   ]
  },
  {
   "cell_type": "code",
   "execution_count": null,
   "metadata": {
    "collapsed": false
   },
   "outputs": [],
   "source": [
    "(y_m_grid.shape, x_m_grid.shape)"
   ]
  },
  {
   "cell_type": "markdown",
   "metadata": {},
   "source": [
    "모멘트 배열도 어어서 만든다.<br>Concatenate moment arrays."
   ]
  },
  {
   "cell_type": "code",
   "execution_count": null,
   "metadata": {
    "collapsed": true
   },
   "outputs": [],
   "source": [
    "M_Nm_array = np.concatenate((M_AD_Nm_array, M_DE_Nm_array))"
   ]
  },
  {
   "cell_type": "code",
   "execution_count": null,
   "metadata": {
    "collapsed": false
   },
   "outputs": [],
   "source": [
    "M_Nm_array.shape"
   ]
  },
  {
   "cell_type": "markdown",
   "metadata": {},
   "source": [
    "`x` 배열과 `M` 배열의 길이가 같은지 확인한다."
   ]
  },
  {
   "cell_type": "code",
   "execution_count": null,
   "metadata": {
    "collapsed": false
   },
   "outputs": [],
   "source": [
    "assert (M_Nm_array.shape == x_m_array.shape)"
   ]
  },
  {
   "cell_type": "markdown",
   "metadata": {},
   "source": [
    "모멘트 배열로 부터 모멘트 격자를 만든다.<br>Make moment grid from moment array."
   ]
  },
  {
   "cell_type": "code",
   "execution_count": null,
   "metadata": {
    "collapsed": true
   },
   "outputs": [],
   "source": [
    "M_Nm_grid = nm.repmat(M_Nm_array.T, x_m_grid.shape[1], 1).T"
   ]
  },
  {
   "cell_type": "code",
   "execution_count": null,
   "metadata": {
    "collapsed": false,
    "scrolled": true
   },
   "outputs": [],
   "source": [
    "M_Nm_grid.shape"
   ]
  },
  {
   "cell_type": "markdown",
   "metadata": {},
   "source": [
    "준비된 격자의 크기가 모두 같은지 확인한다.<br>Assert if all grids are all in the same shape."
   ]
  },
  {
   "cell_type": "code",
   "execution_count": null,
   "metadata": {
    "collapsed": false
   },
   "outputs": [],
   "source": [
    "assert(M_Nm_grid.shape == x_m_grid.shape == y_m_grid.shape)"
   ]
  },
  {
   "cell_type": "markdown",
   "metadata": {},
   "source": [
    "굽힘모멘트와 `y` 거리, 단면의 `I_m4` 값을 이용하여 굽힘 법선응력을 계산한다.<br>Calculate bending normal stress using bending moment, `y` distance, and `I_m4` of the section."
   ]
  },
  {
   "cell_type": "code",
   "execution_count": null,
   "metadata": {
    "collapsed": true
   },
   "outputs": [],
   "source": [
    "sigma_Pa_grid = M_Nm_grid * y_m_grid / (-I_m4)"
   ]
  },
  {
   "cell_type": "markdown",
   "metadata": {},
   "source": [
    "굽힘응력을 그림으로 표시한다.<br>Plot bending stress."
   ]
  },
  {
   "cell_type": "code",
   "execution_count": null,
   "metadata": {
    "collapsed": false
   },
   "outputs": [],
   "source": [
    "# https://matplotlib.org/gallery/images_contours_and_fields/pcolormesh_levels.html\n",
    "plt.pcolormesh(x_m_grid, y_m_grid, sigma_Pa_grid * 1e-6, shading='flat', cmap='jet')\n",
    "plt.xlabel('x(m)')\n",
    "plt.ylabel('y(m)')\n",
    "# https://stackoverflow.com/questions/15908371\n",
    "cbar = plt.colorbar()\n",
    "cbar.set_label('$\\sigma$(MPa)')\n",
    "plt.show()"
   ]
  }
 ],
 "metadata": {
  "anaconda-cloud": {},
  "kernelspec": {
   "display_name": "Python [default]",
   "language": "python",
   "name": "python3"
  },
  "language_info": {
   "codemirror_mode": {
    "name": "ipython",
    "version": 3
   },
   "file_extension": ".py",
   "mimetype": "text/x-python",
   "name": "python",
   "nbconvert_exporter": "python",
   "pygments_lexer": "ipython3",
   "version": "3.5.2"
  }
 },
 "nbformat": 4,
 "nbformat_minor": 2
}
