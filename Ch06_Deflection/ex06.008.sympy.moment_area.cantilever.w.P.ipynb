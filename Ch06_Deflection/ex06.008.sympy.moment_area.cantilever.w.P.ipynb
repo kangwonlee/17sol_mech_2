{
 "cells": [
  {
   "cell_type": "markdown",
   "metadata": {},
   "source": [
    "참고문헌 : Pytel 외 저, 이주성 외 역, 재료역학, 2판, 한티미디어, 2013.<br>Ref: Pytel, Kiusalaas, Sharma, Mechanics of Materials, 2nd Ed., Cengage Learning, 2013."
   ]
  },
  {
   "cell_type": "markdown",
   "metadata": {},
   "source": [
    "`python` 기능을 확장해 주는 `module`을 불러 들임 (일부 기능만 사용될 수도 있음)<br>\n",
    "Bring in `module`'s that would expand features of `python`. (This file may use just some of them.)"
   ]
  },
  {
   "cell_type": "code",
   "execution_count": null,
   "metadata": {
    "collapsed": true
   },
   "outputs": [],
   "source": [
    "import numpy as np  # 배열, 행렬 관련 기능\n",
    "import numpy.linalg as na  # 선형대수 (벡터, 행렬) 관련 기능\n",
    "import matplotlib.pyplot as plt  # 그래프 관련 기능\n",
    "import scipy.integrate as si  # 적분 관련 기능\n",
    "import sympy as sy  # 기호 연산 기능\n",
    "import sympy.plotting as splot\n",
    "import IPython.display as disp  # 웹페이지 표시 기능\n",
    "sy.init_printing()  # 기호 연산 결과 표시 기능 준비"
   ]
  },
  {
   "cell_type": "markdown",
   "metadata": {},
   "source": [
    "## 예제 06.008"
   ]
  },
  {
   "cell_type": "markdown",
   "metadata": {},
   "source": [
    "모멘트 면적법<br>Moment area method"
   ]
  },
  {
   "cell_type": "markdown",
   "metadata": {},
   "source": [
    "p. 270"
   ]
  },
  {
   "cell_type": "markdown",
   "metadata": {},
   "source": [
    "### 문제에서 주어진 변수<br>Given Parameters"
   ]
  },
  {
   "cell_type": "markdown",
   "metadata": {},
   "source": [
    "#### 보의 길이<br>Length of the beam"
   ]
  },
  {
   "cell_type": "code",
   "execution_count": null,
   "metadata": {
    "collapsed": false
   },
   "outputs": [],
   "source": [
    "L_AB_m, L_BC_m = sy.symbols('L_{AB}[m], L_{BC}[m]', real=True, nonnegative=True)\n",
    "\n",
    "s_d = {\n",
    "    L_AB_m: 4,\n",
    "    L_BC_m: 4,\n",
    "}\n",
    "\n",
    "L_AC_m = L_AB_m + L_BC_m"
   ]
  },
  {
   "cell_type": "markdown",
   "metadata": {},
   "source": [
    "#### 하중<br>Load"
   ]
  },
  {
   "cell_type": "code",
   "execution_count": null,
   "metadata": {
    "collapsed": false
   },
   "outputs": [],
   "source": [
    "P_A_N, w_AB_N_m = sy.symbols('P_{A}[N], w_{AB}[N/m]', real=True)\n",
    "\n",
    "s_d.update(\n",
    "    {\n",
    "        w_AB_N_m: -600,\n",
    "    }\n",
    ")\n"
   ]
  },
  {
   "cell_type": "markdown",
   "metadata": {},
   "source": [
    "보를 그려주는 모듈을 `import` 할 수 있도록 준비."
   ]
  },
  {
   "cell_type": "code",
   "execution_count": null,
   "metadata": {
    "collapsed": false
   },
   "outputs": [],
   "source": [
    "import os   # 운영체제 관련 기능 Operating Systems\n",
    "import sys  # 시스템 관련 기능 Systems\n",
    "# utils 폴더의 모듈을 import 할 수 있도록 준비\n",
    "# add utils folder to sys.path to import\n",
    "sys.path.append(os.path.abspath(os.path.join(os.pardir, 'utils')))\n",
    "# 선도 관련 기능 diagrams\n",
    "import draw_diagrams\n",
    "\n",
    "points_list = [\n",
    "    {'x_m': 0, 'text':'A'},\n",
    "    {'x_m': L_AB_m.subs(s_d), 'text':'B'},\n",
    "    {'x_m': L_AC_m.subs(s_d), 'text':'C'},\n",
    "]\n",
    "\n",
    "reaction_list = [\n",
    "    {'x_m': 0},\n",
    "]\n",
    "\n",
    "dist_load_list = [\n",
    "    {'x_begin_m': 0, 'x_end_m': L_AB_m.subs(s_d), 'text': 'w0'}\n",
    "]\n",
    "\n",
    "\n",
    "draw_diagrams.draw_beam(L_AC_m.subs(s_d), points_list, reaction_list, dist_load_list=dist_load_list)"
   ]
  },
  {
   "cell_type": "code",
   "execution_count": null,
   "metadata": {
    "collapsed": true
   },
   "outputs": [],
   "source": [
    "x_m = sy.symbols('x[m]', nonnegative=True)\n",
    "x_A_m = 0\n",
    "x_B_m = L_AB_m\n",
    "x_C_m = L_AC_m"
   ]
  },
  {
   "cell_type": "markdown",
   "metadata": {},
   "source": [
    "### 별해<br>Alternative"
   ]
  },
  {
   "cell_type": "markdown",
   "metadata": {},
   "source": [
    "p. 264 eq. 6.9"
   ]
  },
  {
   "cell_type": "markdown",
   "metadata": {},
   "source": [
    "$$\n",
    "t_{A/C} = \\left. \\frac{M}{EI}Area \\right\\rvert _{C}^{A}\\overline{x}_{/A}=0\n",
    "$$"
   ]
  },
  {
   "cell_type": "markdown",
   "metadata": {},
   "source": [
    "#### 집중하중 $P$에 의한 굽힘모멘트 면적<br>Bending moment area by concentrated load $P$"
   ]
  },
  {
   "cell_type": "markdown",
   "metadata": {},
   "source": [
    "$$\n",
    "BMD_P(x)=Px\n",
    "$$"
   ]
  },
  {
   "cell_type": "code",
   "execution_count": null,
   "metadata": {
    "collapsed": true
   },
   "outputs": [],
   "source": [
    "BMD_P = P_A_N * x_m"
   ]
  },
  {
   "cell_type": "markdown",
   "metadata": {},
   "source": [
    "$$BMDarea_P = \\frac{1}{2}PL^2$$"
   ]
  },
  {
   "cell_type": "code",
   "execution_count": null,
   "metadata": {
    "collapsed": true
   },
   "outputs": [],
   "source": [
    "BMD_area_P = sy.integrate(BMD_P, (x_m, x_A_m, x_C_m))"
   ]
  },
  {
   "cell_type": "code",
   "execution_count": null,
   "metadata": {
    "collapsed": false
   },
   "outputs": [],
   "source": [
    "BMD_area_P"
   ]
  },
  {
   "cell_type": "markdown",
   "metadata": {},
   "source": [
    "도심 거리<br>Centroid distance"
   ]
  },
  {
   "cell_type": "code",
   "execution_count": null,
   "metadata": {
    "collapsed": true
   },
   "outputs": [],
   "source": [
    "centroid_dist_P =  sy.integrate(BMD_P * x_m, (x_m, x_A_m, x_C_m))/ sy.integrate(BMD_P, (x_m, x_A_m, x_C_m))"
   ]
  },
  {
   "cell_type": "code",
   "execution_count": null,
   "metadata": {
    "collapsed": false
   },
   "outputs": [],
   "source": [
    "centroid_dist_P"
   ]
  },
  {
   "cell_type": "markdown",
   "metadata": {},
   "source": [
    "선도 면적 $\\times$ 도심 거리<br>Diagram area $\\times$ centroid distance"
   ]
  },
  {
   "cell_type": "markdown",
   "metadata": {},
   "source": [
    "$$t_{A/C_p} = \\frac{1}{2}PL^2 \\frac{2}{3}L$$"
   ]
  },
  {
   "cell_type": "code",
   "execution_count": null,
   "metadata": {
    "collapsed": true
   },
   "outputs": [],
   "source": [
    "t_A_C_P = sy.simplify(BMD_area_P * centroid_dist_P)"
   ]
  },
  {
   "cell_type": "code",
   "execution_count": null,
   "metadata": {
    "collapsed": false,
    "scrolled": true
   },
   "outputs": [],
   "source": [
    "t_A_C_P"
   ]
  },
  {
   "cell_type": "code",
   "execution_count": null,
   "metadata": {
    "collapsed": false
   },
   "outputs": [],
   "source": [
    "t_A_C_P.subs({L_AB_m: 4, L_BC_m: 4,})"
   ]
  },
  {
   "cell_type": "markdown",
   "metadata": {},
   "source": [
    "#### 분포하중 $w0$에 의한 굽힘모멘트 면적<br>Bending moment area by distributed load $w0$"
   ]
  },
  {
   "cell_type": "markdown",
   "metadata": {},
   "source": [
    "분포하중에 의한 굽힘모멘트 면적을 분해해서 구하는 대신, 브라켓 함수로 표시한다.<br>Instead of dividing the bending moment area, indicate the area using the bracket function."
   ]
  },
  {
   "cell_type": "markdown",
   "metadata": {},
   "source": [
    "브라켓 함수는 헤비사이드 함수로도 표시할 수 있다.<br>An engineer can describe a bracket function using the Heaviside function."
   ]
  },
  {
   "cell_type": "markdown",
   "metadata": {},
   "source": [
    "$$<x-a>^n = 1(x-a) \\times (x-a)^n\n",
    "$$"
   ]
  },
  {
   "cell_type": "markdown",
   "metadata": {},
   "source": [
    "$x_A$~$x_B$에 분포하는 하중은 브라켓 함수 두개를 사용하여 표시할 수 있다.<br>It is possible to describe the load distributed between $x_A$ and $x_B$ using two bracket functions."
   ]
  },
  {
   "cell_type": "markdown",
   "metadata": {},
   "source": [
    "$$ \n",
    "\\begin{align}\n",
    "    \\frac{d}{dx}SFD(x) &= w0<x-x_A> - w0<x-x_B>\\\\\n",
    "                       &= w0[1(x-x_A) - 1(x-x_B)]\n",
    "\\end{align}\n",
    "$$"
   ]
  },
  {
   "cell_type": "code",
   "execution_count": null,
   "metadata": {
    "collapsed": false
   },
   "outputs": [],
   "source": [
    "SFD_w0 = sy.integrate(w_AB_N_m * (sy.Heaviside(x_m - x_A_m) - sy.Heaviside(x_m - x_B_m)), x_m)"
   ]
  },
  {
   "cell_type": "code",
   "execution_count": null,
   "metadata": {
    "collapsed": false
   },
   "outputs": [],
   "source": [
    "sy.simplify(SFD_w0)"
   ]
  },
  {
   "cell_type": "code",
   "execution_count": null,
   "metadata": {
    "collapsed": false
   },
   "outputs": [],
   "source": [
    "splot.plot(SFD_w0.subs(s_d), (x_m, x_A_m, x_C_m.subs(s_d)), ylabel='SFD')"
   ]
  },
  {
   "cell_type": "code",
   "execution_count": null,
   "metadata": {
    "collapsed": true
   },
   "outputs": [],
   "source": [
    "BMD_w0 = sy.integrate(SFD_w0, x_m)"
   ]
  },
  {
   "cell_type": "code",
   "execution_count": null,
   "metadata": {
    "collapsed": false,
    "scrolled": true
   },
   "outputs": [],
   "source": [
    "BMD_w0.subs({L_AB_m: 4, L_BC_m: 4,})"
   ]
  },
  {
   "cell_type": "markdown",
   "metadata": {},
   "source": [
    "`simplify`기능을 사용하면 브라켓 함수가 보다 분명히 드러난다.<br>`simplify` result reveal show bracket function more clearly."
   ]
  },
  {
   "cell_type": "code",
   "execution_count": null,
   "metadata": {
    "collapsed": false
   },
   "outputs": [],
   "source": [
    "sy.simplify(BMD_w0.subs({L_AB_m: 4, L_BC_m: 4,}))"
   ]
  },
  {
   "cell_type": "code",
   "execution_count": null,
   "metadata": {
    "collapsed": false
   },
   "outputs": [],
   "source": [
    "splot.plot(BMD_w0.subs(s_d), (x_m, x_A_m, x_C_m.subs(s_d)), ylabel='BMD')"
   ]
  },
  {
   "cell_type": "code",
   "execution_count": null,
   "metadata": {
    "collapsed": true
   },
   "outputs": [],
   "source": [
    "BMDarea_w0 = sy.integrate(BMD_w0, (x_m, x_A_m, x_C_m))"
   ]
  },
  {
   "cell_type": "code",
   "execution_count": null,
   "metadata": {
    "collapsed": false
   },
   "outputs": [],
   "source": [
    "BMDarea_w0.subs({L_AB_m: 4, L_BC_m: 4,})"
   ]
  },
  {
   "cell_type": "markdown",
   "metadata": {},
   "source": [
    "도심 거리<br>Centroid distance"
   ]
  },
  {
   "cell_type": "code",
   "execution_count": null,
   "metadata": {
    "collapsed": true
   },
   "outputs": [],
   "source": [
    "centroid_dist_w0 = sy.simplify(sy.integrate(BMD_w0 * x_m, (x_m, x_A_m, x_C_m))/ sy.integrate(BMD_w0, (x_m, x_A_m, x_C_m)))"
   ]
  },
  {
   "cell_type": "code",
   "execution_count": null,
   "metadata": {
    "collapsed": false
   },
   "outputs": [],
   "source": [
    "centroid_dist_w0.subs({L_AB_m: 4, L_BC_m: 4,})"
   ]
  },
  {
   "cell_type": "markdown",
   "metadata": {},
   "source": [
    "선도 면적 $\\times$ 도심 거리<br>Diagram area $\\times$ centroid distance"
   ]
  },
  {
   "cell_type": "code",
   "execution_count": null,
   "metadata": {
    "collapsed": true
   },
   "outputs": [],
   "source": [
    "t_A_C_w0 = sy.simplify(BMDarea_w0 * centroid_dist_w0)"
   ]
  },
  {
   "cell_type": "code",
   "execution_count": null,
   "metadata": {
    "collapsed": false
   },
   "outputs": [],
   "source": [
    "t_A_C_w0.subs({L_AB_m: 4, L_BC_m: 4,})"
   ]
  },
  {
   "cell_type": "markdown",
   "metadata": {},
   "source": [
    "#### 방정식<br>Equation"
   ]
  },
  {
   "cell_type": "markdown",
   "metadata": {},
   "source": [
    "각각 집중하중과 분포하중에 의한 면적$\\times$도심거리가 같다.<br>Respective area $\\times$ (centroid distance) by concentrated load P and distributed load w0 are the same."
   ]
  },
  {
   "cell_type": "code",
   "execution_count": null,
   "metadata": {
    "collapsed": false
   },
   "outputs": [],
   "source": [
    "eq = sy.Eq(t_A_C_P, t_A_C_w0)"
   ]
  },
  {
   "cell_type": "code",
   "execution_count": null,
   "metadata": {
    "collapsed": false
   },
   "outputs": [],
   "source": [
    "eq.subs({L_AB_m: 4, L_BC_m: 4,})"
   ]
  },
  {
   "cell_type": "markdown",
   "metadata": {},
   "source": [
    "방정식의 해를 구한다.<br>Solve for P"
   ]
  },
  {
   "cell_type": "code",
   "execution_count": null,
   "metadata": {
    "collapsed": false
   },
   "outputs": [],
   "source": [
    "P_sol_list = sy.solve(eq, P_A_N)"
   ]
  },
  {
   "cell_type": "code",
   "execution_count": null,
   "metadata": {
    "collapsed": false
   },
   "outputs": [],
   "source": [
    "P_sol_list[0].subs({L_AB_m: 4, L_BC_m: 4,})"
   ]
  },
  {
   "cell_type": "code",
   "execution_count": null,
   "metadata": {
    "collapsed": false,
    "scrolled": true
   },
   "outputs": [],
   "source": [
    "P_sol_list[0].subs(s_d)"
   ]
  },
  {
   "cell_type": "markdown",
   "metadata": {},
   "source": [
    "구해진 P(N) 는 다음과 같다.<br>P(N) would be as follows."
   ]
  },
  {
   "cell_type": "code",
   "execution_count": null,
   "metadata": {
    "collapsed": false
   },
   "outputs": [],
   "source": [
    "float(P_sol_list[0].subs(s_d))"
   ]
  }
 ],
 "metadata": {
  "anaconda-cloud": {},
  "kernelspec": {
   "display_name": "Python [default]",
   "language": "python",
   "name": "python3"
  },
  "language_info": {
   "codemirror_mode": {
    "name": "ipython",
    "version": 3
   },
   "file_extension": ".py",
   "mimetype": "text/x-python",
   "name": "python",
   "nbconvert_exporter": "python",
   "pygments_lexer": "ipython3",
   "version": "3.5.2"
  }
 },
 "nbformat": 4,
 "nbformat_minor": 2
}
