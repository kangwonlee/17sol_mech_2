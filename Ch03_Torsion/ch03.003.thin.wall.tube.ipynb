{
 "cells": [
  {
   "cell_type": "markdown",
   "metadata": {},
   "source": [
    "참고문헌 : Pytel 외 저, 이주성 외 역, 재료역학, 2판, 한티미디어, 2013.<br>Ref: Pytel, Kiusalaas, Sharma, Mechanics of Materials, 2nd Ed., Cengage Learning, 2013."
   ]
  },
  {
   "cell_type": "markdown",
   "metadata": {},
   "source": [
    "`python` 에서 수학 관련 기능을 좀 더 쉽게 사용할 수 있도록 해 주는 `module`을 불러 들임 (모든 기능이 다 사용되지는 않을 수도 있음)"
   ]
  },
  {
   "cell_type": "code",
   "execution_count": null,
   "metadata": {
    "collapsed": false
   },
   "outputs": [],
   "source": [
    "import numpy as np  # 배열, 행렬 관련 기능\n",
    "import numpy.linalg as na  # 선형대수 (벡터, 행렬) 관련 기능\n",
    "import matplotlib.pyplot as plt  # 그래프 관련 기능\n",
    "import scipy.integrate as si  # 적분 관련 기능\n",
    "import sympy as sy  # 기호 연산 기능\n",
    "import IPython.display as disp  # 웹페이지 표시 기능\n",
    "sy.init_printing()  # 기호 연산 결과 표시 기능 준비"
   ]
  },
  {
   "cell_type": "markdown",
   "metadata": {},
   "source": [
    "## 03.003 박판 튜브의 비틂"
   ]
  },
  {
   "cell_type": "markdown",
   "metadata": {},
   "source": [
    "### 전단류 $q\\left[N/m\\right]$"
   ]
  },
  {
   "cell_type": "markdown",
   "metadata": {},
   "source": [
    "얇은 판을 말아서 만든 튜브의 비틂을 생각해 보자. 중심으로부터의 거리 $\\rho$에 따라 전단 변형률 $$\\gamma=\\frac{d\\theta}{dx}\\rho$$ 이 달라지겠지만, 두께 $t$ 가 충분히 작다면 \n",
    "$$\\rho\\approx\\rho+t$$ \n",
    "라고, 따라서 \n",
    "$$\n",
    "\\begin{align}\n",
    "\\gamma_{\\rho}&=\\frac{d\\theta}{dx}\\rho \\\\\n",
    "\\approx \\gamma_{\\rho+t}&=\\frac{d\\theta}{dx}(\\rho+t) \\\\\n",
    "\\approx \\gamma_{\\rho+\\frac{1}{2}t}&=\\frac{d\\theta}{dx}\\left(\\rho+\\frac{1}{2}t\\right)\n",
    "\\end{align}\n",
    "$$ \n",
    "라고 생각할 수 있을 것이다."
   ]
  },
  {
   "cell_type": "markdown",
   "metadata": {},
   "source": [
    "그렇다면, \n",
    "$$\\tau=G\\gamma$$ \n",
    "이므로 마찬가지로\n",
    "$$\n",
    "\\begin{align}\n",
    "\\tau_{\\rho}&=G\\frac{d\\theta}{dx}\\rho \\\\\n",
    "\\approx \\tau_{\\rho+t}&=G\\frac{d\\theta}{dx}(\\rho+t) \\\\\n",
    "\\approx \\tau_{\\rho+\\frac{1}{2}t}&=G\\frac{d\\theta}{dx}\\left(\\rho+\\frac{1}{2}t\\right)\n",
    "\\end{align}\n",
    "$$ \n",
    "가 될 것이다. 이렇게 되면 예를 들어 $\\tau_{\\rho}$ 와 $\\tau_{\\rho+t}$ 를 굳이 구별할 필요가 없게 되므로\n",
    "$$\n",
    "\\tau_{\\rho}=\\tau_{\\rho+t}=\\tau_{\\rho+\\frac{1}{2}t}\n",
    "$$\n",
    "라고 가정하기로 하자."
   ]
  },
  {
   "cell_type": "markdown",
   "metadata": {},
   "source": [
    "전단응력 $\\tau$ 의 단위는 $Pa=N/m^2$ 로, 여기에 두께 $t\\left[m\\right]$ 를 곱한 전단류 $q\\left[N/m\\right]$ 를 생각할 수 있다. \n",
    "$$q\\left[N/m\\right]=\\tau\\left[N/m^2\\right]t\\left[m\\right]$$\n"
   ]
  },
  {
   "cell_type": "markdown",
   "metadata": {},
   "source": [
    "### 전단류와 비틀림 토크의 관계"
   ]
  },
  {
   "cell_type": "markdown",
   "metadata": {},
   "source": [
    "토크 $T$ 와 전단류 $q$ 의 관계\n",
    "$$ T=\\oint_S qr \\,ds $$\n",
    "$q$가 상수이므로\n",
    "$$ T=q\\oint_S r \\,ds $$\n",
    "$rds=2dA_O$ 이므로 \n",
    "$$ T=q\\oint_S 2dA_O=2q\\oint_S dA_O =2qA_0$$\n",
    "따라서\n",
    "$$\n",
    "\\begin{align}\n",
    "q&=\\frac{T}{2A_0} \\\\\n",
    "\\tau&=\\frac{T}{2A_0t}\n",
    "\\end{align}\n",
    "$$"
   ]
  },
  {
   "cell_type": "markdown",
   "metadata": {},
   "source": [
    "예를 들어 단면이 둥근 관이라면 \n",
    "$$\n",
    "\\begin{align}\n",
    "A_0&=\\pi r^2 \\\\\n",
    "T&=2q\\pi r^2=(2\\pi r)q r \\\\\n",
    "q&=\\frac{T}{2 \\pi r^2 } \\\\\n",
    "\\tau&=\\frac{T}{2 \\pi r^2 t}\n",
    "\\end{align}\n",
    "$$"
   ]
  },
  {
   "cell_type": "markdown",
   "metadata": {},
   "source": [
    "단면이 $w[m] \\times h[m]$ 사각 관이라면 \n",
    "$$\n",
    "\\begin{align}\n",
    "A_0&=wh \\\\\n",
    "T&=2qwh\n",
    "\\end{align}\n",
    "$$"
   ]
  },
  {
   "cell_type": "markdown",
   "metadata": {},
   "source": [
    "### 비틀림 각"
   ]
  },
  {
   "cell_type": "markdown",
   "metadata": {},
   "source": [
    "비틀림 각$\\theta$의 $x$ 방향 미분은 다음과 같을 것이다.\n",
    "$$\n",
    "\\begin{align}\n",
    "\\frac{d\\theta}{dx} &= \\frac{q}{2GA_0}\\oint \\frac{1}{t}ds \\\\\n",
    "&= \\frac{\\frac{T}{2A_0}}{2GA_0}\\oint \\frac{1}{t}ds \\\\\n",
    "&= \\frac{T}{4GA_0^2}\\oint \\frac{1}{t}ds \\\\\n",
    "\\end{align}\n",
    "$$"
   ]
  },
  {
   "cell_type": "markdown",
   "metadata": {},
   "source": [
    "$x$ 에 대해 0~$L$ 범위에서 적분한다.\n",
    "$$\\theta = \\frac{TL}{4GA_0^2}\\oint \\frac{1}{t}ds$$"
   ]
  },
  {
   "cell_type": "markdown",
   "metadata": {},
   "source": [
    "두께 $t$ 가 일정하다면, 비틀림 각 변위는 다음과 같다.\n",
    "$$\\theta = \\frac{TL}{4GA_0^2}\\frac{S}{t}$$"
   ]
  },
  {
   "cell_type": "code",
   "execution_count": null,
   "metadata": {
    "collapsed": true
   },
   "outputs": [],
   "source": []
  }
 ],
 "metadata": {
  "anaconda-cloud": {},
  "kernelspec": {
   "display_name": "Python [default]",
   "language": "python",
   "name": "python3"
  },
  "language_info": {
   "codemirror_mode": {
    "name": "ipython",
    "version": 3
   },
   "file_extension": ".py",
   "mimetype": "text/x-python",
   "name": "python",
   "nbconvert_exporter": "python",
   "pygments_lexer": "ipython3",
   "version": "3.5.2"
  }
 },
 "nbformat": 4,
 "nbformat_minor": 2
}
