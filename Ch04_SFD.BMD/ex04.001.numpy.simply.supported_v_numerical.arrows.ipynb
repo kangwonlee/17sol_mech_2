{
 "cells": [
  {
   "cell_type": "markdown",
   "metadata": {},
   "source": [
    "참고문헌 : Pytel 외 저, 이주성 외 역, 재료역학, 2판, 한티미디어, 2013.<br>Ref: Pytel, Kiusalaas, Sharma, Mechanics of Materials, 2nd Ed., Cengege Learning, 2013."
   ]
  },
  {
   "cell_type": "markdown",
   "metadata": {},
   "source": [
    "`python` 기능을 확장해 주는 `module`을 불러 들임 (일부 기능만 사용될 수도 있음)"
   ]
  },
  {
   "cell_type": "code",
   "execution_count": null,
   "metadata": {
    "collapsed": false
   },
   "outputs": [],
   "source": [
    "import numpy as np  # 배열, 행렬 관련 기능\n",
    "import numpy.linalg as na  # 선형대수 (벡터, 행렬) 관련 기능\n",
    "import matplotlib.pyplot as plt  # 그래프 관련 기능\n",
    "import scipy.integrate as si  # 적분 관련 기능\n",
    "import sympy as sy  # 기호 연산 기능\n",
    "import IPython.display as disp  # 웹페이지 표시 기능\n",
    "sy.init_printing()  # 기호 연산 결과 표시 기능 준비"
   ]
  },
  {
   "cell_type": "markdown",
   "metadata": {},
   "source": [
    "## 예제 04.001"
   ]
  },
  {
   "cell_type": "markdown",
   "metadata": {},
   "source": [
    "### 문제에서 주어진 변수"
   ]
  },
  {
   "cell_type": "markdown",
   "metadata": {},
   "source": [
    "각 구간 길이"
   ]
  },
  {
   "cell_type": "code",
   "execution_count": null,
   "metadata": {
    "collapsed": false
   },
   "outputs": [],
   "source": [
    "L_AB_m = 2\n",
    "L_BC_m = 3\n",
    "L_CD_m = 2"
   ]
  },
  {
   "cell_type": "markdown",
   "metadata": {},
   "source": [
    "하중"
   ]
  },
  {
   "cell_type": "code",
   "execution_count": null,
   "metadata": {
    "collapsed": false
   },
   "outputs": [],
   "source": [
    "V_B_N = -14e3\n",
    "V_C_N = -28e3"
   ]
  },
  {
   "cell_type": "markdown",
   "metadata": {},
   "source": [
    "반력"
   ]
  },
  {
   "cell_type": "code",
   "execution_count": null,
   "metadata": {
    "collapsed": false
   },
   "outputs": [],
   "source": [
    "R_A_N = 18e3\n",
    "R_D_N = 24e3"
   ]
  },
  {
   "cell_type": "markdown",
   "metadata": {},
   "source": [
    "### A, B, C, D 지점의 x 좌표\n",
    "A 점에서 x=0 으로 한다."
   ]
  },
  {
   "cell_type": "code",
   "execution_count": null,
   "metadata": {
    "collapsed": true
   },
   "outputs": [],
   "source": [
    "x_A_m = 0\n",
    "x_B_m = x_A_m + L_AB_m\n",
    "x_C_m = x_B_m + L_BC_m\n",
    "x_D_m = x_C_m + L_CD_m"
   ]
  },
  {
   "cell_type": "markdown",
   "metadata": {},
   "source": [
    "### A-B 구간"
   ]
  },
  {
   "cell_type": "code",
   "execution_count": null,
   "metadata": {
    "collapsed": false
   },
   "outputs": [],
   "source": [
    "x_AB_m_array = np.linspace(x_A_m, x_B_m, 10+1)"
   ]
  },
  {
   "cell_type": "markdown",
   "metadata": {},
   "source": [
    "#### 전단력선도"
   ]
  },
  {
   "cell_type": "markdown",
   "metadata": {},
   "source": [
    "A-B 구간의 자유물체도를 생각해 보면 A 지점에서의 반력만 감안하면 된다."
   ]
  },
  {
   "cell_type": "code",
   "execution_count": null,
   "metadata": {
    "collapsed": true
   },
   "outputs": [],
   "source": [
    "V_AB_N_array = R_A_N * np.ones_like(x_AB_m_array)"
   ]
  },
  {
   "cell_type": "markdown",
   "metadata": {},
   "source": [
    "A 지점에서의 반력을 화살표로 표시한다."
   ]
  },
  {
   "cell_type": "code",
   "execution_count": null,
   "metadata": {
    "collapsed": false
   },
   "outputs": [],
   "source": [
    "ax = plt.axes()\n",
    "ax.arrow(x_A_m, 0, \n",
    "         0, R_A_N * 0.9, \n",
    "         head_width=0.05, head_length=0.1 * abs(R_A_N), fc='k', ec='k')"
   ]
  },
  {
   "cell_type": "code",
   "execution_count": null,
   "metadata": {
    "collapsed": false
   },
   "outputs": [],
   "source": [
    "plt.fill_between(x_AB_m_array, V_AB_N_array)\n",
    "plt.text(x_A_m, 0, 'A')\n",
    "plt.text(x_B_m, 0, 'B')\n",
    "plt.text(x_C_m, 0, 'C')\n",
    "plt.text(x_D_m, 0, 'D')\n",
    "plt.xlim(xmax=x_D_m)\n",
    "plt.xlabel('x(m)')\n",
    "plt.ylabel('V(N)')\n",
    "plt.grid(True)\n",
    "plt.show()"
   ]
  },
  {
   "cell_type": "markdown",
   "metadata": {},
   "source": [
    "#### 굽힘모멘트 선도"
   ]
  },
  {
   "cell_type": "code",
   "execution_count": null,
   "metadata": {
    "collapsed": true
   },
   "outputs": [],
   "source": [
    "M_AB_Nm_array = R_A_N * x_AB_m_array"
   ]
  },
  {
   "cell_type": "code",
   "execution_count": null,
   "metadata": {
    "collapsed": false
   },
   "outputs": [],
   "source": [
    "plt.fill_between(x_AB_m_array, M_AB_Nm_array)\n",
    "plt.text(x_A_m, 0, 'A')\n",
    "plt.text(x_B_m, 0, 'B')\n",
    "plt.text(x_C_m, 0, 'C')\n",
    "plt.text(x_D_m, 0, 'D')\n",
    "plt.xlim(xmax=x_D_m)\n",
    "plt.xlabel('x(m)')\n",
    "plt.ylabel('M(Nm)')\n",
    "plt.grid(True)\n",
    "plt.show()"
   ]
  },
  {
   "cell_type": "markdown",
   "metadata": {},
   "source": [
    "### B-C 구간"
   ]
  },
  {
   "cell_type": "code",
   "execution_count": null,
   "metadata": {
    "collapsed": true
   },
   "outputs": [],
   "source": [
    "x_BC_m_array = np.linspace(x_B_m, x_C_m, 10+1)"
   ]
  },
  {
   "cell_type": "markdown",
   "metadata": {},
   "source": [
    "#### 전단력선도"
   ]
  },
  {
   "cell_type": "markdown",
   "metadata": {},
   "source": [
    "A 지점 반력과 B 지점 하중을 감안한다."
   ]
  },
  {
   "cell_type": "code",
   "execution_count": null,
   "metadata": {
    "collapsed": true
   },
   "outputs": [],
   "source": [
    "V_BC_N_array = (R_A_N + V_B_N) * np.ones_like(x_BC_m_array)"
   ]
  },
  {
   "cell_type": "markdown",
   "metadata": {},
   "source": [
    "A-B, B-C 구간 전단력을 표시한다."
   ]
  },
  {
   "cell_type": "code",
   "execution_count": null,
   "metadata": {
    "collapsed": false
   },
   "outputs": [],
   "source": [
    "plt.fill_between(x_AB_m_array, V_AB_N_array)\n",
    "plt.fill_between(x_BC_m_array, V_BC_N_array)"
   ]
  },
  {
   "cell_type": "markdown",
   "metadata": {},
   "source": [
    "A 지점에서의 반력을 화살표로 표시한다."
   ]
  },
  {
   "cell_type": "code",
   "execution_count": null,
   "metadata": {
    "collapsed": false
   },
   "outputs": [],
   "source": [
    "ax = plt.axes()\n",
    "ax.arrow(x_A_m, 0, \n",
    "         0, R_A_N * 0.9, \n",
    "         head_width=0.05, head_length=0.1 * abs(R_A_N), fc='k', ec='k')"
   ]
  },
  {
   "cell_type": "markdown",
   "metadata": {},
   "source": [
    "B 지점에서의 하중을 화살표로 표시해본다."
   ]
  },
  {
   "cell_type": "code",
   "execution_count": null,
   "metadata": {
    "collapsed": false
   },
   "outputs": [],
   "source": [
    "ax.arrow(x_B_m, R_A_N, \n",
    "         0, V_B_N * 0.9, \n",
    "         head_width=0.05, head_length=0.1 * abs(V_B_N), fc='k', ec='k')"
   ]
  },
  {
   "cell_type": "code",
   "execution_count": null,
   "metadata": {
    "collapsed": false
   },
   "outputs": [],
   "source": [
    "plt.text(x_A_m, 0, 'A')\n",
    "plt.text(x_B_m, 0, 'B')\n",
    "plt.text(x_C_m, 0, 'C')\n",
    "plt.text(x_D_m, 0, 'D')\n",
    "plt.xlim(xmax=x_D_m)\n",
    "plt.xlabel('x(m)')\n",
    "plt.ylabel('V(N)')\n",
    "plt.grid(True)\n",
    "plt.show()"
   ]
  },
  {
   "cell_type": "markdown",
   "metadata": {},
   "source": [
    "#### 굽힘모멘트 선도"
   ]
  },
  {
   "cell_type": "markdown",
   "metadata": {},
   "source": [
    "굽힘모멘트 선도는 A-B 구간의 마지막 값에서 부터 시작된다.  기울기는 $R_A+V_B$ 가 될 것이다."
   ]
  },
  {
   "cell_type": "code",
   "execution_count": null,
   "metadata": {
    "collapsed": true
   },
   "outputs": [],
   "source": [
    "M_BC_Nm_array = R_A_N * x_BC_m_array + V_B_N * (x_BC_m_array - x_B_m)"
   ]
  },
  {
   "cell_type": "code",
   "execution_count": null,
   "metadata": {
    "collapsed": false
   },
   "outputs": [],
   "source": [
    "plt.fill_between(x_AB_m_array, M_AB_Nm_array)\n",
    "plt.fill_between(x_BC_m_array, M_BC_Nm_array)\n",
    "plt.text(x_A_m, 0, 'A')\n",
    "plt.text(x_B_m, 0, 'B')\n",
    "plt.text(x_C_m, 0, 'C')\n",
    "plt.text(x_D_m, 0, 'D')\n",
    "plt.xlim(xmax=x_D_m)\n",
    "plt.xlabel('x(m)')\n",
    "plt.ylabel('M(Nm)')\n",
    "plt.grid(True)\n",
    "plt.show()"
   ]
  },
  {
   "cell_type": "markdown",
   "metadata": {},
   "source": [
    "### C-D 구간"
   ]
  },
  {
   "cell_type": "code",
   "execution_count": null,
   "metadata": {
    "collapsed": true
   },
   "outputs": [],
   "source": [
    "x_CD_m_array = np.linspace(x_C_m, x_D_m, 10+1)"
   ]
  },
  {
   "cell_type": "markdown",
   "metadata": {},
   "source": [
    "#### 전단력선도"
   ]
  },
  {
   "cell_type": "markdown",
   "metadata": {},
   "source": [
    "A 지점 반력과 B, C 지점 하중을 감안한다."
   ]
  },
  {
   "cell_type": "code",
   "execution_count": null,
   "metadata": {
    "collapsed": true
   },
   "outputs": [],
   "source": [
    "V_CD_N_array = (R_A_N + V_B_N + V_C_N) * np.ones_like(x_CD_m_array)"
   ]
  },
  {
   "cell_type": "markdown",
   "metadata": {},
   "source": [
    "A 지점에서의 반력을 화살표로 표시한다."
   ]
  },
  {
   "cell_type": "code",
   "execution_count": null,
   "metadata": {
    "collapsed": false
   },
   "outputs": [],
   "source": [
    "ax = plt.axes()\n",
    "ax.arrow(x_A_m, 0, \n",
    "         0, R_A_N * 0.9, \n",
    "         head_width=0.05, head_length=0.1 * abs(R_A_N), fc='k', ec='k')"
   ]
  },
  {
   "cell_type": "markdown",
   "metadata": {},
   "source": [
    "B 지점에서의 하중을 화살표로 표시해본다."
   ]
  },
  {
   "cell_type": "code",
   "execution_count": null,
   "metadata": {
    "collapsed": false
   },
   "outputs": [],
   "source": [
    "ax.arrow(x_B_m, R_A_N, \n",
    "         0, V_B_N * 0.9, \n",
    "         head_width=0.05, head_length=0.1 * abs(V_B_N), fc='k', ec='k')"
   ]
  },
  {
   "cell_type": "markdown",
   "metadata": {},
   "source": [
    "C 지점에서의 하중을 화살표로 표시해본다."
   ]
  },
  {
   "cell_type": "code",
   "execution_count": null,
   "metadata": {
    "collapsed": false
   },
   "outputs": [],
   "source": [
    "ax.arrow(x_C_m, (R_A_N + V_B_N), \n",
    "         0, V_C_N * 0.9, \n",
    "         head_width=0.05, head_length=0.1 * abs(V_C_N), fc='k', ec='k')"
   ]
  },
  {
   "cell_type": "markdown",
   "metadata": {},
   "source": [
    "D 지점 반력을 화살표로 표시해본다."
   ]
  },
  {
   "cell_type": "code",
   "execution_count": null,
   "metadata": {
    "collapsed": false
   },
   "outputs": [],
   "source": [
    "ax.arrow(x_D_m, -R_D_N, \n",
    "         0, R_D_N * 0.9, \n",
    "         head_width=0.05, head_length=0.1 * abs(R_D_N), fc='k', ec='k')"
   ]
  },
  {
   "cell_type": "code",
   "execution_count": null,
   "metadata": {
    "collapsed": false
   },
   "outputs": [],
   "source": [
    "plt.fill_between(x_AB_m_array, V_AB_N_array)\n",
    "plt.fill_between(x_BC_m_array, V_BC_N_array)\n",
    "plt.fill_between(x_CD_m_array, V_CD_N_array)\n",
    "plt.text(x_A_m, 0, 'A')\n",
    "plt.text(x_B_m, 0, 'B')\n",
    "plt.text(x_C_m, 0, 'C')\n",
    "plt.text(x_D_m, 0, 'D')\n",
    "plt.xlabel('x(m)')\n",
    "plt.ylabel('V(N)')\n",
    "plt.grid(True)\n",
    "plt.show()"
   ]
  },
  {
   "cell_type": "markdown",
   "metadata": {},
   "source": [
    "#### 굽힘모멘트 선도"
   ]
  },
  {
   "cell_type": "markdown",
   "metadata": {},
   "source": [
    "굽힘모멘트 선도의 기울기는 $R_A+V_B+V_C$ 가 될 것이다. 마찬가지로 B-C 구간 모멘트의 마지막 값에서 시작할 것이다."
   ]
  },
  {
   "cell_type": "code",
   "execution_count": null,
   "metadata": {
    "collapsed": false
   },
   "outputs": [],
   "source": [
    "M_CD_Nm_array = (R_A_N * x_CD_m_array \n",
    "                 + V_B_N * (x_CD_m_array - x_B_m)\n",
    "                 + V_C_N * (x_CD_m_array - x_C_m))"
   ]
  },
  {
   "cell_type": "code",
   "execution_count": null,
   "metadata": {
    "collapsed": false
   },
   "outputs": [],
   "source": [
    "plt.fill_between(x_AB_m_array, M_AB_Nm_array)\n",
    "plt.fill_between(x_BC_m_array, M_BC_Nm_array)\n",
    "plt.fill_between(x_CD_m_array, M_CD_Nm_array)\n",
    "plt.text(x_A_m, 0, 'A')\n",
    "plt.text(x_B_m, 0, 'B')\n",
    "plt.text(x_C_m, 0, 'C')\n",
    "plt.text(x_D_m, 0, 'D')\n",
    "plt.xlabel('x(m)')\n",
    "plt.ylabel('M(Nm)')\n",
    "plt.grid(True)\n",
    "plt.show()"
   ]
  },
  {
   "cell_type": "markdown",
   "metadata": {},
   "source": [
    "아래위로 나란히 그려 본다."
   ]
  },
  {
   "cell_type": "code",
   "execution_count": null,
   "metadata": {
    "collapsed": false
   },
   "outputs": [],
   "source": [
    "ax = plt.subplot(2, 1, 1)\n",
    "plt.fill_between(x_AB_m_array, V_AB_N_array)\n",
    "plt.fill_between(x_BC_m_array, V_BC_N_array)\n",
    "plt.fill_between(x_CD_m_array, V_CD_N_array)\n",
    "\n",
    "ax.arrow(x_A_m, 0, \n",
    "         0, R_A_N * 0.9, \n",
    "         head_width=0.05, head_length=0.1 * abs(R_A_N), fc='k', ec='k')\n",
    "ax.arrow(x_B_m, R_A_N, \n",
    "         0, V_B_N * 0.9, \n",
    "         head_width=0.05, head_length=0.1 * abs(V_B_N), fc='k', ec='k')\n",
    "ax.arrow(x_C_m, (R_A_N + V_B_N), \n",
    "         0, V_C_N * 0.9, \n",
    "         head_width=0.05, head_length=0.1 * abs(V_C_N), fc='k', ec='k')\n",
    "ax.arrow(x_D_m, -R_D_N, \n",
    "         0, R_D_N * 0.9, \n",
    "         head_width=0.05, head_length=0.1 * abs(R_D_N), fc='k', ec='k')\n",
    "\n",
    "plt.text(x_A_m, 0, 'A')\n",
    "plt.text(x_B_m, 0, 'B')\n",
    "plt.text(x_C_m, 0, 'C')\n",
    "plt.text(x_D_m, 0, 'D')\n",
    "plt.xlabel('x(m)')\n",
    "plt.ylabel('V(N)')\n",
    "plt.grid(True)\n",
    "\n",
    "plt.subplot(2, 1, 2)\n",
    "plt.fill_between(x_AB_m_array, M_AB_Nm_array)\n",
    "plt.fill_between(x_BC_m_array, M_BC_Nm_array)\n",
    "plt.fill_between(x_CD_m_array, M_CD_Nm_array)\n",
    "plt.text(x_A_m, 0, 'A')\n",
    "plt.text(x_B_m, 0, 'B')\n",
    "plt.text(x_C_m, 0, 'C')\n",
    "plt.text(x_D_m, 0, 'D')\n",
    "plt.xlabel('x(m)')\n",
    "plt.ylabel('M(Nm)')\n",
    "plt.grid(True)\n",
    "\n",
    "plt.show()"
   ]
  }
 ],
 "metadata": {
  "anaconda-cloud": {},
  "kernelspec": {
   "display_name": "Python [default]",
   "language": "python",
   "name": "python3"
  },
  "language_info": {
   "codemirror_mode": {
    "name": "ipython",
    "version": 3
   },
   "file_extension": ".py",
   "mimetype": "text/x-python",
   "name": "python",
   "nbconvert_exporter": "python",
   "pygments_lexer": "ipython3",
   "version": "3.5.2"
  }
 },
 "nbformat": 4,
 "nbformat_minor": 2
}
